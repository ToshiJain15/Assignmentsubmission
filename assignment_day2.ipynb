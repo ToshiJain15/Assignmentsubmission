{
 "cells": [
  {
   "cell_type": "raw",
   "metadata": {},
   "source": [
    "Questions 1:\n",
    "Create an empty list. Accept 10 numbers from the user and append to it the list if it is an even number."
   ]
  },
  {
   "cell_type": "code",
   "execution_count": 1,
   "metadata": {},
   "outputs": [
    {
     "name": "stdout",
     "output_type": "stream",
     "text": [
      "5\n",
      "6\n",
      "8\n",
      "0\n",
      "3\n",
      "65\n",
      "33\n",
      "0\n",
      "3\n",
      "6\n",
      "[6, 8, 0, 0, 6]\n"
     ]
    }
   ],
   "source": [
    "#answer 1:\n",
    "list_1=[]\n",
    "for i in range(10):\n",
    "    a=int(input())\n",
    "    if a%2==0:\n",
    "        list_1.append(a)\n",
    "\n",
    "print(list_1)"
   ]
  },
  {
   "cell_type": "raw",
   "metadata": {},
   "source": [
    "Questions 2:\n",
    "Create a notebook on LIST COMPREHENSION. This exercise is to put you in a Self learning mode."
   ]
  },
  {
   "cell_type": "markdown",
   "metadata": {},
   "source": [
    "answer2:"
   ]
  },
  {
   "cell_type": "raw",
   "metadata": {},
   "source": [
    "It is tiresome to define and create lists in Python as typing in all values separately take time and we can make mistakes.\n",
    "List comprehension offers a simpler way and shorter syntax when we want to create a new list based on the values of an existing list.\n",
    "It is also surrounded by brackets, but instead of the list of data inside it, we enter an expression followed by for loop and if-else clauses.\n",
    "Syntax: nwlist=[expression for item in collection]\n",
    "Example:"
   ]
  },
  {
   "cell_type": "code",
   "execution_count": 3,
   "metadata": {},
   "outputs": [
    {
     "name": "stdout",
     "output_type": "stream",
     "text": [
      "['aman', 'bali', 'ram', 'kishore', 'mangal']\n",
      "['bali', 'kishore']\n",
      "['AMAN', 'BALI', 'RAM', 'KISHORE', 'MANGAL']\n"
     ]
    }
   ],
   "source": [
    "#answer 2:\n",
    "name = [\"aman\", \"bali\", \"ram\", \"kishore\", \"mangal\"]\n",
    "\n",
    "new = [x for x in name]\n",
    "print(new)\n",
    "\n",
    "newlist = [x for x in name if \"i\" in x]\n",
    "print(newlist)\n",
    "\n",
    "newname = [x.upper() for x in name]\n",
    "print(newname)"
   ]
  },
  {
   "cell_type": "code",
   "execution_count": 4,
   "metadata": {},
   "outputs": [
    {
     "name": "stdout",
     "output_type": "stream",
     "text": [
      "[0, 1, 2, 3, 4, 5, 6, 7, 8, 9]\n"
     ]
    }
   ],
   "source": [
    "number = [x for x in range(10)]\n",
    "print(number)"
   ]
  },
  {
   "cell_type": "raw",
   "metadata": {},
   "source": [
    "Questions 3:\n",
    "You have seen in the videos how powerful dictionary data structure is.\n",
    "In this assignment, given a number n, you have to write a program that generates a dictionary d which\n",
    "contains (i, i*i), where i is from 1 to n (both included).\n",
    "Then you have to just print this dictionary d.\n",
    "Example:\n",
    "Input: 4\n",
    "will give output as\n",
    "{1: 1, 2: 4, 3: 9, 4: 16}\n",
    "Input Format:\n",
    "Take the number n in a single line.\n",
    "Output Format:\n",
    "Print the dictionary d in a single line.\n",
    "Example:\n",
    "Input:\n",
    "8\n",
    "Output:\n",
    "{1: 1, 2: 4, 3: 9, 4: 16, 5: 25, 6: 36, 7: 49, 8: 64}"
   ]
  },
  {
   "cell_type": "code",
   "execution_count": 5,
   "metadata": {},
   "outputs": [
    {
     "name": "stdout",
     "output_type": "stream",
     "text": [
      "8\n",
      "{1: 1, 2: 4, 3: 9, 4: 16, 5: 25, 6: 36, 7: 49, 8: 64}\n"
     ]
    }
   ],
   "source": [
    "#answer 3:\n",
    "n=int(input())\n",
    "d={i: i*i for i in range(1,n+1)}\n",
    "print(d)"
   ]
  },
  {
   "cell_type": "raw",
   "metadata": {},
   "source": [
    "Questions 4:\n",
    "There is a robot which wants to go the charging point to charge itself.\n",
    "The robot moves in a 2-D plane from the original point (0,0). The robot can\n",
    "move toward UP, DOWN, LEFT and RIGHT with given steps.\n",
    "The trace of robot movement is shown as the following:\n",
    "UP 5\n",
    "DOWN 3\n",
    "LEFT 3\n",
    "RIGHT 2\n",
    "Then, the output of the program should be:\n",
    "2\n",
    "The numbers after the direction are steps.\n",
    "Write a program to compute the distance between the current position after\n",
    "a sequence of movement and original point. If the distance is a float, then\n",
    "just print the nearest integer (use round() function for that and then convert\n",
    "it into an integer).\n",
    "Input Format:\n",
    "The first line of the input contains a number n which implies the number of\n",
    "directions to be given.\n",
    "The next n lines contain the direction and the step separated by a space.\n",
    "Output Format:\n",
    "Print the distance from the original position to the current position.\n",
    "Example:\n",
    "Input:\n",
    "4\n",
    "UP 5\n",
    "DOWN 3\n",
    "LEFT 3\n",
    "RIGHT 2\n",
    "Output:\n",
    "2"
   ]
  },
  {
   "cell_type": "code",
   "execution_count": 6,
   "metadata": {},
   "outputs": [
    {
     "name": "stdout",
     "output_type": "stream",
     "text": [
      "5\n",
      "UP 5\n",
      "DOWN 3\n",
      "LEFT 3\n",
      "RIGHT 2\n",
      "\n",
      "2\n"
     ]
    }
   ],
   "source": [
    "#answer 4:\n",
    "x,y = 0,0\n",
    "while True:\n",
    "    n = input().split()\n",
    "    if not n:\n",
    "        break\n",
    "    if n[0]=='UP':                  \n",
    "        x-=int(n[1])          \n",
    "    if n[0]=='DOWN':\n",
    "        x+=int(n[1])\n",
    "    if n[0]=='LEFT':\n",
    "        y-=int(n[1])\n",
    "    if n[0]=='RIGHT':\n",
    "        y+=int(n[1])\n",
    "print(round((((y)**2)+((x)**2))**0.5))"
   ]
  }
 ],
 "metadata": {
  "kernelspec": {
   "display_name": "Python 3",
   "language": "python",
   "name": "python3"
  },
  "language_info": {
   "codemirror_mode": {
    "name": "ipython",
    "version": 3
   },
   "file_extension": ".py",
   "mimetype": "text/x-python",
   "name": "python",
   "nbconvert_exporter": "python",
   "pygments_lexer": "ipython3",
   "version": "3.7.6"
  }
 },
 "nbformat": 4,
 "nbformat_minor": 4
}
