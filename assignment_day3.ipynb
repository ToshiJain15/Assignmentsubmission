{
 "cells": [
  {
   "cell_type": "markdown",
   "metadata": {},
   "source": [
    "Questions 1:\n",
    "Create a numpy array starting from 2 till 50 with a stepsize of 3."
   ]
  },
  {
   "cell_type": "code",
   "execution_count": 1,
   "metadata": {},
   "outputs": [
    {
     "name": "stdout",
     "output_type": "stream",
     "text": [
      "[ 2  5  8 11 14 17 20 23 26 29 32 35 38 41 44 47 50]\n"
     ]
    }
   ],
   "source": [
    "#answer1:\n",
    "import numpy as np\n",
    "arr=np.arange(2,51,3)\n",
    "print(arr)"
   ]
  },
  {
   "cell_type": "markdown",
   "metadata": {},
   "source": [
    "Questions 2:\n",
    "Accept two lists of 5 elements each from the user.\n",
    "Convert them to numpy arrays. Concatenate these arrays and print it. Also sort these arrays and print it."
   ]
  },
  {
   "cell_type": "code",
   "execution_count": 2,
   "metadata": {},
   "outputs": [
    {
     "name": "stdout",
     "output_type": "stream",
     "text": [
      "list_1\n",
      "1\n",
      "2\n",
      "6\n",
      "8\n",
      "1\n",
      "list_2\n",
      "0\n",
      "3\n",
      "5\n",
      "2\n",
      "8\n",
      "sorted list_1:  ['1' '1' '2' '6' '8']\n",
      "sorted list_2:  ['0' '2' '3' '5' '8']\n",
      "concatenated list:  ['1' '2' '6' '8' '1' '0' '3' '5' '2' '8']\n"
     ]
    }
   ],
   "source": [
    "list_1=[]\n",
    "print(\"list_1\")\n",
    "for i in range(5):\n",
    "    a=input()\n",
    "    list_1.append(a)\n",
    "list_2=[]\n",
    "print(\"list_2\")\n",
    "for i in range(5):\n",
    "    b=input()\n",
    "    list_2.append(b)\n",
    "a_list=np.array(list_1)\n",
    "print(\"sorted list_1: \", np.sort(a_list))\n",
    "b_list=np.array(list_2)\n",
    "print(\"sorted list_2: \", np.sort(b_list))\n",
    "print(\"concatenated list: \", np.concatenate((a_list, b_list)))"
   ]
  },
  {
   "cell_type": "markdown",
   "metadata": {},
   "source": [
    "Questions 3:\n",
    "Write a code snippet to find the dimensions of a ndarray and its size."
   ]
  },
  {
   "cell_type": "code",
   "execution_count": 4,
   "metadata": {},
   "outputs": [
    {
     "name": "stdout",
     "output_type": "stream",
     "text": [
      "1\n",
      "2\n",
      "5\n",
      "9\n"
     ]
    }
   ],
   "source": [
    "x = np.array([2, 1, 4, 3, 5])\n",
    "y = np.array( [ [1,2,3] , [4,5,6] , [7,8,9] ] )\n",
    "xdim=np.ndim(x)\n",
    "print(xdim)\n",
    "ydim=np.ndim(y)\n",
    "print(ydim)\n",
    "xs=np.size(x)\n",
    "print(xs)\n",
    "ys=np.size(y)\n",
    "print(ys)"
   ]
  },
  {
   "cell_type": "raw",
   "metadata": {},
   "source": [
    "Questions 4:\n",
    "\n",
    "How to convert a 1D array into a 2D array? Demonstrate with the help of a code snippet\n",
    "Hint: np.newaxis, np.expand_dims"
   ]
  },
  {
   "cell_type": "code",
   "execution_count": 5,
   "metadata": {},
   "outputs": [
    {
     "name": "stdout",
     "output_type": "stream",
     "text": [
      "(6,)\n",
      "(6, 1)\n",
      "(1, 6)\n"
     ]
    }
   ],
   "source": [
    "a = np.array([1, 2, 3, 4, 5, 6])\n",
    "d_1=a.shape\n",
    "print(d_1)\n",
    "b = np.expand_dims(a, axis=1)  \n",
    "d_2=b.shape\n",
    "print(d_2)\n",
    "c = np.expand_dims(a, axis=0)  \n",
    "d_c2=c.shape\n",
    "print(d_c2)"
   ]
  },
  {
   "cell_type": "markdown",
   "metadata": {},
   "source": [
    "Questions 5:\n",
    "Consider two square numpy arrays. Stack them vertically and horizontally.\n",
    "Hint: Use vstack(), hstack()"
   ]
  },
  {
   "cell_type": "code",
   "execution_count": 6,
   "metadata": {},
   "outputs": [
    {
     "name": "stdout",
     "output_type": "stream",
     "text": [
      "Horizontal: [[1 2 3 4 5 6]\n",
      " [3 5 6 2 5 4]\n",
      " [7 8 9 5 6 7]]\n",
      "Vertical: [[1 2 3]\n",
      " [3 5 6]\n",
      " [7 8 9]\n",
      " [4 5 6]\n",
      " [2 5 4]\n",
      " [5 6 7]]\n"
     ]
    }
   ],
   "source": [
    "a = np.array([[1,2,3],[3,5,6], [7,8,9]])\n",
    "b = np.array([[4,5,6],[2,5,4], [5,6,7]])\n",
    "\n",
    "print('Horizontal:', np.hstack((a, b)))\n",
    "print('Vertical:', np.vstack((a, b)))"
   ]
  },
  {
   "cell_type": "markdown",
   "metadata": {},
   "source": [
    "Questions 6:\n",
    "How to get unique items and counts of unique items?"
   ]
  },
  {
   "cell_type": "code",
   "execution_count": 7,
   "metadata": {},
   "outputs": [
    {
     "data": {
      "text/plain": [
       "array([ 1,  2,  3,  4,  5,  7, 11])"
      ]
     },
     "execution_count": 7,
     "metadata": {},
     "output_type": "execute_result"
    }
   ],
   "source": [
    "x=np.array([1,2,3,11,4,1,3,2,5,7,7,])\n",
    "np.unique(x)"
   ]
  }
 ],
 "metadata": {
  "kernelspec": {
   "display_name": "Python 3",
   "language": "python",
   "name": "python3"
  },
  "language_info": {
   "codemirror_mode": {
    "name": "ipython",
    "version": 3
   },
   "file_extension": ".py",
   "mimetype": "text/x-python",
   "name": "python",
   "nbconvert_exporter": "python",
   "pygments_lexer": "ipython3",
   "version": "3.7.6"
  }
 },
 "nbformat": 4,
 "nbformat_minor": 4
}
